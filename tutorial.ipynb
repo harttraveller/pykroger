{
 "metadata": {
  "language_info": {
   "codemirror_mode": {
    "name": "ipython",
    "version": 3
   },
   "file_extension": ".py",
   "mimetype": "text/x-python",
   "name": "python",
   "nbconvert_exporter": "python",
   "pygments_lexer": "ipython3",
   "version": "3.8.5"
  },
  "orig_nbformat": 4,
  "kernelspec": {
   "name": "python3",
   "display_name": "Python 3.8.5 64-bit ('base': conda)"
  },
  "interpreter": {
   "hash": "ecf5722fdaf1897a315d257d89d94520bfcaa453217d5becf09b39e73618b0de"
  }
 },
 "nbformat": 4,
 "nbformat_minor": 2,
 "cells": [
  {
   "source": [
    "### Imports and credentials"
   ],
   "cell_type": "markdown",
   "metadata": {}
  },
  {
   "cell_type": "code",
   "execution_count": 27,
   "metadata": {},
   "outputs": [],
   "source": [
    "# import\n",
    "from pykroger.pykroger import *\n",
    "import pandas as pd\n",
    "\n",
    "# load credentials\n",
    "credentials = json.load(open('credentials.json'))\n",
    "client_id,client_secret = credentials['client_id'],credentials['client_secret']"
   ]
  },
  {
   "source": [
    "### Instantiation and basic testing"
   ],
   "cell_type": "markdown",
   "metadata": {}
  },
  {
   "cell_type": "code",
   "execution_count": 2,
   "metadata": {},
   "outputs": [],
   "source": [
    "kroger = Kroger()\n",
    "kroger.authenticate(client_id,client_secret)"
   ]
  },
  {
   "source": [
    "### Getting location list by zip"
   ],
   "cell_type": "markdown",
   "metadata": {}
  },
  {
   "cell_type": "code",
   "execution_count": 3,
   "metadata": {},
   "outputs": [],
   "source": [
    "kroger_list = kroger.location_list_by_zip(zip_code=28288,radius=100,chain='Kroger')"
   ]
  },
  {
   "cell_type": "code",
   "execution_count": 6,
   "metadata": {},
   "outputs": [
    {
     "output_type": "execute_result",
     "data": {
      "text/plain": [
       "'01100678'"
      ]
     },
     "metadata": {},
     "execution_count": 6
    }
   ],
   "source": [
    "loc_id = kroger_list['data'][0]['locationId']\n",
    "loc_id"
   ]
  },
  {
   "source": [
    "### Searching for products"
   ],
   "cell_type": "markdown",
   "metadata": {}
  },
  {
   "cell_type": "code",
   "execution_count": 29,
   "metadata": {},
   "outputs": [],
   "source": [
    "products = kroger.product_search(term='chicken',location_id=loc_id)"
   ]
  },
  {
   "cell_type": "code",
   "execution_count": 30,
   "metadata": {},
   "outputs": [],
   "source": [
    "def get_key_product_info(product_dict):\n",
    "    key_components = ['productId','brand','categories','countryOrigin','description','price','size']\n",
    "    key_subcomponents = {'items':['price','size']}\n",
    "    _return_dict = {k:v for k,v in product_dict.items() if k in key_components}\n",
    "    for i in key_subcomponents.keys():\n",
    "        for j in key_subcomponents[i]:\n",
    "            _return_dict[j] = product_dict[i][0][j]\n",
    "    return(_return_dict)"
   ]
  },
  {
   "cell_type": "code",
   "execution_count": 31,
   "metadata": {},
   "outputs": [
    {
     "output_type": "execute_result",
     "data": {
      "text/plain": [
       "       productId                 brand                categories  \\\n",
       "0  0024058150000          Simple Truth          [Meat & Seafood]   \n",
       "1  0021058100000         Heritage Farm          [Meat & Seafood]   \n",
       "2  0021065600000         Heritage Farm          [Meat & Seafood]   \n",
       "3  0024096150000          Simple Truth          [Meat & Seafood]   \n",
       "4  0024061550000          Simple Truth          [Meat & Seafood]   \n",
       "5  0021086500000         Heritage Farm          [Meat & Seafood]   \n",
       "6  0001111000906                Kroger          [Meat & Seafood]   \n",
       "7  0002370016226                 Tyson  [Meat & Seafood, Frozen]   \n",
       "8  0025074900000                Perdue          [Meat & Seafood]   \n",
       "9  0021082950000  Simple Truth Organic          [Meat & Seafood]   \n",
       "\n",
       "   countryOrigin                                        description  \\\n",
       "0  UNITED STATES  Simple Truth™ Natural Raised Cage Free Boneles...   \n",
       "1  UNITED STATES  Heritage Farm™ Boneless & Skinless Chicken Ten...   \n",
       "2  UNITED STATES  Heritage Farm Boneless & Skinless Chicken Brea...   \n",
       "3  UNITED STATES  Simple Truth™ Natural Chicken Breast Cutlets T...   \n",
       "4  UNITED STATES  Simple Truth™ Natural Raised Cage Free Boneles...   \n",
       "5  UNITED STATES  Heritage Farm™ Boneless & Skinless Chicken Thighs   \n",
       "6  UNITED STATES      Kroger® Boneless Skinless Chicken Tenderloins   \n",
       "7  UNITED STATES  Tyson All Natural Boneless Skinless Chicken Br...   \n",
       "8  UNITED STATES                       Perdue Fresh Chicken Breasts   \n",
       "9            NaN  Simple Truth Organic™ Free Range Boneless & Sk...   \n",
       "\n",
       "                                               price    size  \n",
       "0  {'regular': 7.49, 'promo': 6.49, 'regularPerUn...    1 lb  \n",
       "1  {'regular': 3.79, 'promo': 0, 'regularPerUnitE...    1 lb  \n",
       "2  {'regular': 1.99, 'promo': 1.88, 'regularPerUn...    1 lb  \n",
       "3  {'regular': 7.99, 'promo': 6.49, 'regularPerUn...    1 lb  \n",
       "4  {'regular': 6.49, 'promo': 4.99, 'regularPerUn...    1 lb  \n",
       "5  {'regular': 2.99, 'promo': 0, 'regularPerUnitE...    1 lb  \n",
       "6                   {'regular': 8.49, 'promo': 7.99}  2.5 lb  \n",
       "7                  {'regular': 12.49, 'promo': 8.99}    3 lb  \n",
       "8  {'regular': 4.49, 'promo': 0, 'regularPerUnitE...    1 lb  \n",
       "9  {'regular': 7.99, 'promo': 6.99, 'regularPerUn...    1 lb  "
      ],
      "text/html": "<div>\n<style scoped>\n    .dataframe tbody tr th:only-of-type {\n        vertical-align: middle;\n    }\n\n    .dataframe tbody tr th {\n        vertical-align: top;\n    }\n\n    .dataframe thead th {\n        text-align: right;\n    }\n</style>\n<table border=\"1\" class=\"dataframe\">\n  <thead>\n    <tr style=\"text-align: right;\">\n      <th></th>\n      <th>productId</th>\n      <th>brand</th>\n      <th>categories</th>\n      <th>countryOrigin</th>\n      <th>description</th>\n      <th>price</th>\n      <th>size</th>\n    </tr>\n  </thead>\n  <tbody>\n    <tr>\n      <th>0</th>\n      <td>0024058150000</td>\n      <td>Simple Truth</td>\n      <td>[Meat &amp; Seafood]</td>\n      <td>UNITED STATES</td>\n      <td>Simple Truth™ Natural Raised Cage Free Boneles...</td>\n      <td>{'regular': 7.49, 'promo': 6.49, 'regularPerUn...</td>\n      <td>1 lb</td>\n    </tr>\n    <tr>\n      <th>1</th>\n      <td>0021058100000</td>\n      <td>Heritage Farm</td>\n      <td>[Meat &amp; Seafood]</td>\n      <td>UNITED STATES</td>\n      <td>Heritage Farm™ Boneless &amp; Skinless Chicken Ten...</td>\n      <td>{'regular': 3.79, 'promo': 0, 'regularPerUnitE...</td>\n      <td>1 lb</td>\n    </tr>\n    <tr>\n      <th>2</th>\n      <td>0021065600000</td>\n      <td>Heritage Farm</td>\n      <td>[Meat &amp; Seafood]</td>\n      <td>UNITED STATES</td>\n      <td>Heritage Farm Boneless &amp; Skinless Chicken Brea...</td>\n      <td>{'regular': 1.99, 'promo': 1.88, 'regularPerUn...</td>\n      <td>1 lb</td>\n    </tr>\n    <tr>\n      <th>3</th>\n      <td>0024096150000</td>\n      <td>Simple Truth</td>\n      <td>[Meat &amp; Seafood]</td>\n      <td>UNITED STATES</td>\n      <td>Simple Truth™ Natural Chicken Breast Cutlets T...</td>\n      <td>{'regular': 7.99, 'promo': 6.49, 'regularPerUn...</td>\n      <td>1 lb</td>\n    </tr>\n    <tr>\n      <th>4</th>\n      <td>0024061550000</td>\n      <td>Simple Truth</td>\n      <td>[Meat &amp; Seafood]</td>\n      <td>UNITED STATES</td>\n      <td>Simple Truth™ Natural Raised Cage Free Boneles...</td>\n      <td>{'regular': 6.49, 'promo': 4.99, 'regularPerUn...</td>\n      <td>1 lb</td>\n    </tr>\n    <tr>\n      <th>5</th>\n      <td>0021086500000</td>\n      <td>Heritage Farm</td>\n      <td>[Meat &amp; Seafood]</td>\n      <td>UNITED STATES</td>\n      <td>Heritage Farm™ Boneless &amp; Skinless Chicken Thighs</td>\n      <td>{'regular': 2.99, 'promo': 0, 'regularPerUnitE...</td>\n      <td>1 lb</td>\n    </tr>\n    <tr>\n      <th>6</th>\n      <td>0001111000906</td>\n      <td>Kroger</td>\n      <td>[Meat &amp; Seafood]</td>\n      <td>UNITED STATES</td>\n      <td>Kroger® Boneless Skinless Chicken Tenderloins</td>\n      <td>{'regular': 8.49, 'promo': 7.99}</td>\n      <td>2.5 lb</td>\n    </tr>\n    <tr>\n      <th>7</th>\n      <td>0002370016226</td>\n      <td>Tyson</td>\n      <td>[Meat &amp; Seafood, Frozen]</td>\n      <td>UNITED STATES</td>\n      <td>Tyson All Natural Boneless Skinless Chicken Br...</td>\n      <td>{'regular': 12.49, 'promo': 8.99}</td>\n      <td>3 lb</td>\n    </tr>\n    <tr>\n      <th>8</th>\n      <td>0025074900000</td>\n      <td>Perdue</td>\n      <td>[Meat &amp; Seafood]</td>\n      <td>UNITED STATES</td>\n      <td>Perdue Fresh Chicken Breasts</td>\n      <td>{'regular': 4.49, 'promo': 0, 'regularPerUnitE...</td>\n      <td>1 lb</td>\n    </tr>\n    <tr>\n      <th>9</th>\n      <td>0021082950000</td>\n      <td>Simple Truth Organic</td>\n      <td>[Meat &amp; Seafood]</td>\n      <td>NaN</td>\n      <td>Simple Truth Organic™ Free Range Boneless &amp; Sk...</td>\n      <td>{'regular': 7.99, 'promo': 6.99, 'regularPerUn...</td>\n      <td>1 lb</td>\n    </tr>\n  </tbody>\n</table>\n</div>"
     },
     "metadata": {},
     "execution_count": 31
    }
   ],
   "source": [
    "pd.DataFrame([get_key_product_info(i) for i in products['data']])"
   ]
  }
 ]
}